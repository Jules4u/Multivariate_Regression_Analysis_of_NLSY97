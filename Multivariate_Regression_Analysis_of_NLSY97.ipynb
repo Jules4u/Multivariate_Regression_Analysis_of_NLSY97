{
 "cells": [
  {
   "cell_type": "markdown",
   "id": "ded02c38-d496-4443-bd6c-fe549af27f5c",
   "metadata": {},
   "source": [
    "# Multivariate Regression Analysis of NLSY97 Data"
   ]
  },
  {
   "cell_type": "markdown",
   "id": "824ca86f-35ee-4630-ad58-59a5eccc17c5",
   "metadata": {},
   "source": [
    "Data is sourced from the NLSY97(https://www.bls.gov/nls/nlsy97.htm), a representative national database of individuals born in the early 1980s in the United States. Below are some variables we will use:\n",
    "\n",
    "- educ: number of years of education completed\n",
    "- Annual_Income: annual income that these individuals earned as adults\n",
    "- TotalWeeksExp: Total weeks of work experience of the individual\n",
    "- gender: denotes the gender of the individual\n",
    "- minority: 1 if the individual belongs to a minority group, 0 otherwise.\n",
    "- m_college: 1 if the individual’s mother has a college degree, 0 otherwise.\n",
    "- family income: Annual family income when these individuals were teenagers, reported in thousands.\n",
    "- gpain8: GPA in 8th grade.\n",
    "- retention: 1 if the individual was required to repeat a grade during middle school, 0 otherwise.\n",
    "Columns of scores from the AFQT test. The values are measured as standard deviations from the mean. A value of '0' means the individual earned the average score. A value of '-1' means the indivial earned a score one standard deviation below the average.\n",
    "\n",
    "- asvabAR: skills in arithmetic reasoning\n",
    "- asvabMK: skills in mathematical knowledge\n",
    "- asvabPC: skills in paragraph comprehension\n",
    "- asvabWK: skills in word knowledge\n",
    "- AFQT: average of the above 4 scores"
   ]
  },
  {
   "cell_type": "code",
   "execution_count": 21,
   "id": "b1a71b7d-a38a-4e90-8976-64fa0dd622a9",
   "metadata": {},
   "outputs": [
    {
     "data": {
      "text/html": [
       "<div>\n",
       "<style scoped>\n",
       "    .dataframe tbody tr th:only-of-type {\n",
       "        vertical-align: middle;\n",
       "    }\n",
       "\n",
       "    .dataframe tbody tr th {\n",
       "        vertical-align: top;\n",
       "    }\n",
       "\n",
       "    .dataframe thead th {\n",
       "        text-align: right;\n",
       "    }\n",
       "</style>\n",
       "<table border=\"1\" class=\"dataframe\">\n",
       "  <thead>\n",
       "    <tr style=\"text-align: right;\">\n",
       "      <th></th>\n",
       "      <th>PUBID - YTH ID CODE 1997</th>\n",
       "      <th>educ</th>\n",
       "      <th>GPA grade 8</th>\n",
       "      <th>School Retention</th>\n",
       "      <th>annual_income</th>\n",
       "      <th>TotalWeeksExp</th>\n",
       "      <th>Black</th>\n",
       "      <th>Hispanic</th>\n",
       "      <th>White</th>\n",
       "      <th>m_college</th>\n",
       "      <th>minority</th>\n",
       "      <th>gender</th>\n",
       "      <th>asvabAR</th>\n",
       "      <th>asvabMK</th>\n",
       "      <th>asvabPC</th>\n",
       "      <th>asvabWK</th>\n",
       "      <th>AFQT</th>\n",
       "    </tr>\n",
       "  </thead>\n",
       "  <tbody>\n",
       "    <tr>\n",
       "      <th>0</th>\n",
       "      <td>1</td>\n",
       "      <td>16.0</td>\n",
       "      <td>3.0</td>\n",
       "      <td>0.0</td>\n",
       "      <td>NaN</td>\n",
       "      <td>NaN</td>\n",
       "      <td>0.0</td>\n",
       "      <td>0.0</td>\n",
       "      <td>1.0</td>\n",
       "      <td>0.0</td>\n",
       "      <td>0.0</td>\n",
       "      <td>female</td>\n",
       "      <td>0.066</td>\n",
       "      <td>0.707</td>\n",
       "      <td>-0.507</td>\n",
       "      <td>-0.772</td>\n",
       "      <td>-0.1265</td>\n",
       "    </tr>\n",
       "    <tr>\n",
       "      <th>1</th>\n",
       "      <td>2</td>\n",
       "      <td>14.0</td>\n",
       "      <td>3.5</td>\n",
       "      <td>0.0</td>\n",
       "      <td>115000.0</td>\n",
       "      <td>965.0</td>\n",
       "      <td>0.0</td>\n",
       "      <td>1.0</td>\n",
       "      <td>0.0</td>\n",
       "      <td>0.0</td>\n",
       "      <td>1.0</td>\n",
       "      <td>male</td>\n",
       "      <td>-0.238</td>\n",
       "      <td>0.259</td>\n",
       "      <td>1.080</td>\n",
       "      <td>-0.059</td>\n",
       "      <td>0.2605</td>\n",
       "    </tr>\n",
       "    <tr>\n",
       "      <th>2</th>\n",
       "      <td>3</td>\n",
       "      <td>14.0</td>\n",
       "      <td>3.0</td>\n",
       "      <td>0.0</td>\n",
       "      <td>NaN</td>\n",
       "      <td>776.0</td>\n",
       "      <td>0.0</td>\n",
       "      <td>1.0</td>\n",
       "      <td>0.0</td>\n",
       "      <td>0.0</td>\n",
       "      <td>1.0</td>\n",
       "      <td>female</td>\n",
       "      <td>-1.009</td>\n",
       "      <td>-0.415</td>\n",
       "      <td>0.299</td>\n",
       "      <td>-0.703</td>\n",
       "      <td>-0.4570</td>\n",
       "    </tr>\n",
       "    <tr>\n",
       "      <th>3</th>\n",
       "      <td>4</td>\n",
       "      <td>12.0</td>\n",
       "      <td>4.0</td>\n",
       "      <td>0.0</td>\n",
       "      <td>45000.0</td>\n",
       "      <td>1008.0</td>\n",
       "      <td>0.0</td>\n",
       "      <td>1.0</td>\n",
       "      <td>0.0</td>\n",
       "      <td>0.0</td>\n",
       "      <td>1.0</td>\n",
       "      <td>female</td>\n",
       "      <td>-0.598</td>\n",
       "      <td>0.646</td>\n",
       "      <td>-0.236</td>\n",
       "      <td>-0.542</td>\n",
       "      <td>-0.1825</td>\n",
       "    </tr>\n",
       "    <tr>\n",
       "      <th>4</th>\n",
       "      <td>5</td>\n",
       "      <td>12.0</td>\n",
       "      <td>2.5</td>\n",
       "      <td>0.0</td>\n",
       "      <td>150000.0</td>\n",
       "      <td>890.0</td>\n",
       "      <td>0.0</td>\n",
       "      <td>1.0</td>\n",
       "      <td>0.0</td>\n",
       "      <td>0.0</td>\n",
       "      <td>1.0</td>\n",
       "      <td>male</td>\n",
       "      <td>NaN</td>\n",
       "      <td>NaN</td>\n",
       "      <td>NaN</td>\n",
       "      <td>NaN</td>\n",
       "      <td>NaN</td>\n",
       "    </tr>\n",
       "  </tbody>\n",
       "</table>\n",
       "</div>"
      ],
      "text/plain": [
       "   PUBID - YTH ID CODE 1997  educ  GPA grade 8  School Retention  \\\n",
       "0                         1  16.0          3.0               0.0   \n",
       "1                         2  14.0          3.5               0.0   \n",
       "2                         3  14.0          3.0               0.0   \n",
       "3                         4  12.0          4.0               0.0   \n",
       "4                         5  12.0          2.5               0.0   \n",
       "\n",
       "   annual_income  TotalWeeksExp  Black  Hispanic  White  m_college  minority  \\\n",
       "0            NaN            NaN    0.0       0.0    1.0        0.0       0.0   \n",
       "1       115000.0          965.0    0.0       1.0    0.0        0.0       1.0   \n",
       "2            NaN          776.0    0.0       1.0    0.0        0.0       1.0   \n",
       "3        45000.0         1008.0    0.0       1.0    0.0        0.0       1.0   \n",
       "4       150000.0          890.0    0.0       1.0    0.0        0.0       1.0   \n",
       "\n",
       "   gender  asvabAR  asvabMK  asvabPC  asvabWK    AFQT  \n",
       "0  female    0.066    0.707   -0.507   -0.772 -0.1265  \n",
       "1    male   -0.238    0.259    1.080   -0.059  0.2605  \n",
       "2  female   -1.009   -0.415    0.299   -0.703 -0.4570  \n",
       "3  female   -0.598    0.646   -0.236   -0.542 -0.1825  \n",
       "4    male      NaN      NaN      NaN      NaN     NaN  "
      ]
     },
     "execution_count": 21,
     "metadata": {},
     "output_type": "execute_result"
    }
   ],
   "source": [
    "import pandas as pd\n",
    "import numpy as np\n",
    "import matplotlib.pyplot as plt\n",
    "import scipy.stats\n",
    "import statsmodels as sm\n",
    "import statsmodels.formula.api as smf\n",
    "NLSY97 = pd.read_excel('NLSY97_PS4.xlsx')\n",
    "NLSY97.head()"
   ]
  },
  {
   "cell_type": "code",
   "execution_count": 22,
   "id": "57346ce3-5149-489f-9a44-49ba3891448a",
   "metadata": {},
   "outputs": [
    {
     "name": "stdout",
     "output_type": "stream",
     "text": [
      "Data types appear as expected. All numeric variables are integers or floats, while gender is set as an object that denotes individuals gender.\n",
      "<class 'pandas.core.frame.DataFrame'>\n",
      "RangeIndex: 8984 entries, 0 to 8983\n",
      "Data columns (total 17 columns):\n",
      " #   Column                    Non-Null Count  Dtype  \n",
      "---  ------                    --------------  -----  \n",
      " 0   PUBID - YTH ID CODE 1997  8984 non-null   int64  \n",
      " 1   educ                      8151 non-null   float64\n",
      " 2   GPA grade 8               8601 non-null   float64\n",
      " 3   School Retention          8969 non-null   float64\n",
      " 4   annual_income             5170 non-null   float64\n",
      " 5   TotalWeeksExp             8030 non-null   float64\n",
      " 6   Black                     8649 non-null   float64\n",
      " 7   Hispanic                  8649 non-null   float64\n",
      " 8   White                     8649 non-null   float64\n",
      " 9   m_college                 8290 non-null   float64\n",
      " 10  minority                  8649 non-null   float64\n",
      " 11  gender                    8984 non-null   object \n",
      " 12  asvabAR                   7113 non-null   float64\n",
      " 13  asvabMK                   7093 non-null   float64\n",
      " 14  asvabPC                   7103 non-null   float64\n",
      " 15  asvabWK                   7110 non-null   float64\n",
      " 16  AFQT                      7113 non-null   float64\n",
      "dtypes: float64(15), int64(1), object(1)\n",
      "memory usage: 1.2+ MB\n",
      "None\n"
     ]
    }
   ],
   "source": [
    "print('Data types appear as expected. All numeric variables are integers or floats, while gender is set as an object that denotes individuals gender.')\n",
    "print(NLSY97.info(24))\n"
   ]
  },
  {
   "cell_type": "code",
   "execution_count": 23,
   "id": "7ef55021-badc-425a-814b-8df9b7ee84e2",
   "metadata": {},
   "outputs": [
    {
     "name": "stdout",
     "output_type": "stream",
     "text": [
      "Histogram of the variable AFQT shows normal distribution.\n"
     ]
    },
    {
     "data": {
      "text/plain": [
       "array([<Axes: title={'center': 'AFQT'}>], dtype=object)"
      ]
     },
     "execution_count": 23,
     "metadata": {},
     "output_type": "execute_result"
    },
    {
     "data": {
      "image/png": "[encoded data removed]",
      "text/plain": [
       "<Figure size 640x480 with 1 Axes>"
      ]
     },
     "metadata": {},
     "output_type": "display_data"
    }
   ],
   "source": [
    "print('Histogram of the variable AFQT shows normal distribution.')\n",
    "fig, ax = plt.subplots()\n",
    "NLSY97.hist(column = 'AFQT', bins = 6, ax=ax)"
   ]
  },
  {
   "cell_type": "code",
   "execution_count": 24,
   "id": "e02bae5a-2597-4ae3-b3e5-f7623759a773",
   "metadata": {},
   "outputs": [
    {
     "name": "stdout",
     "output_type": "stream",
     "text": [
      "Created new variable called exper, that transforms the variable TotalWeeksExp into years of experience by adding 1/7(removes 0 week entries) to TotalWeeksExx and dividing by 52.14\n"
     ]
    }
   ],
   "source": [
    "print('Created new variable called exper, that transforms the variable TotalWeeksExp into years of experience by adding 1/7(removes 0 week entries) to TotalWeeksExx and dividing by 52.14')\n",
    "NLSY97['exper'] = (NLSY97['TotalWeeksExp'] + 1)/52.14"
   ]
  },
  {
   "cell_type": "code",
   "execution_count": 32,
   "id": "0872e468-dcea-4a7f-9602-716c384b9ce6",
   "metadata": {},
   "outputs": [
    {
     "name": "stdout",
     "output_type": "stream",
     "text": [
      "Created new variable in the dataframe called female that takes on value of 1 if the individual is female and 0 otherwire\n"
     ]
    }
   ],
   "source": [
    "print('Created new variable in the dataframe called female that takes on value of 1 if the individual is female and 0 otherwire')\n",
    "NLSY97['female'] = (NLSY97['gender'] == 'female').astype(int)"
   ]
  },
  {
   "cell_type": "code",
   "execution_count": 26,
   "id": "5b0e2476-5a25-4857-ab1c-1e423249fa76",
   "metadata": {},
   "outputs": [
    {
     "name": "stdout",
     "output_type": "stream",
     "text": [
      "Performed a multivariate regression analysis with annual_income as the dependent variable and educ, exper, m_college, female, and AFQT as the independent variables.\n",
      "                            OLS Regression Results                            \n",
      "==============================================================================\n",
      "Dep. Variable:          annual_income   R-squared:                       0.185\n",
      "Model:                            OLS   Adj. R-squared:                  0.184\n",
      "Method:                 Least Squares   F-statistic:                     162.3\n",
      "Date:                Wed, 15 Jan 2025   Prob (F-statistic):          7.92e-156\n",
      "Time:                        17:49:05   Log-Likelihood:                -44106.\n",
      "No. Observations:                3570   AIC:                         8.822e+04\n",
      "Df Residuals:                    3564   BIC:                         8.826e+04\n",
      "Df Model:                           5                                         \n",
      "Covariance Type:            nonrobust                                         \n",
      "==============================================================================\n",
      "                 coef    std err          t      P>|t|      [0.025      0.975]\n",
      "------------------------------------------------------------------------------\n",
      "Intercept  -1.625e+04   6990.881     -2.324      0.020      -3e+04   -2538.640\n",
      "educ        5274.7212    476.533     11.069      0.000    4340.417    6209.025\n",
      "exper       1420.4369    239.268      5.937      0.000     951.321    1889.552\n",
      "m_college   4766.0235   2501.284      1.905      0.057    -138.069    9670.116\n",
      "female     -2.561e+04   1896.793    -13.502      0.000   -2.93e+04   -2.19e+04\n",
      "AFQT         1.29e+04   1334.898      9.665      0.000    1.03e+04    1.55e+04\n",
      "==============================================================================\n",
      "Omnibus:                     2403.091   Durbin-Watson:                   1.935\n",
      "Prob(Omnibus):                  0.000   Jarque-Bera (JB):            32499.924\n",
      "Skew:                           3.089   Prob(JB):                         0.00\n",
      "Kurtosis:                      16.428   Cond. No.                         160.\n",
      "==============================================================================\n",
      "\n",
      "Notes:\n",
      "[1] Standard Errors assume that the covariance matrix of the errors is correctly specified.\n"
     ]
    }
   ],
   "source": [
    "print('Performed a multivariate regression analysis with annual_income as the dependent variable and educ, exper, m_college, female, and AFQT as the independent variables.')\n",
    "Income_NLSY97=smf.ols('annual_income ~ educ + exper + m_college + female + AFQT', data=NLSY97).fit()\n",
    "print(Income_NLSY97.summary())"
   ]
  },
  {
   "cell_type": "markdown",
   "id": "2e320c86-4274-4803-864d-30667d4c5976",
   "metadata": {},
   "source": [
    "Regression Interpretation: With P values equal to 0, both education and female gender held statistical significance on the dependent variable. Among those surveyed, and holding all else equal, we predict female individuals earned an annual income that was 25610 dollars less than males and each addtional year of education for males led to a increase of 5274.72 dollars in annual income. \n",
    "R squared of .185 reveals that the independent variables selected accounted for 18.5% of the variance in annual income among those surveyed."
   ]
  },
  {
   "cell_type": "code",
   "execution_count": 27,
   "id": "2f75479a-cc73-41a2-98a8-a13eed8836b2",
   "metadata": {},
   "outputs": [
    {
     "name": "stdout",
     "output_type": "stream",
     "text": [
      "Regression with only educ as the independent variable.\n",
      "                            OLS Regression Results                            \n",
      "==============================================================================\n",
      "Dep. Variable:          annual_income   R-squared:                       0.116\n",
      "Model:                            OLS   Adj. R-squared:                  0.116\n",
      "Method:                 Least Squares   F-statistic:                     657.6\n",
      "Date:                Wed, 15 Jan 2025   Prob (F-statistic):          2.16e-136\n",
      "Time:                        17:49:05   Log-Likelihood:                -62076.\n",
      "No. Observations:                5024   AIC:                         1.242e+05\n",
      "Df Residuals:                    5022   BIC:                         1.242e+05\n",
      "Df Model:                           1                                         \n",
      "Covariance Type:            nonrobust                                         \n",
      "==============================================================================\n",
      "                 coef    std err          t      P>|t|      [0.025      0.975]\n",
      "------------------------------------------------------------------------------\n",
      "Intercept  -4.509e+04   4301.881    -10.482      0.000   -5.35e+04   -3.67e+04\n",
      "educ        8082.7506    315.201     25.643      0.000    7464.819    8700.683\n",
      "==============================================================================\n",
      "Omnibus:                     3431.251   Durbin-Watson:                   1.872\n",
      "Prob(Omnibus):                  0.000   Jarque-Bera (JB):            49424.489\n",
      "Skew:                           3.143   Prob(JB):                         0.00\n",
      "Kurtosis:                      17.021   Cond. No.                         74.4\n",
      "==============================================================================\n",
      "\n",
      "Notes:\n",
      "[1] Standard Errors assume that the covariance matrix of the errors is correctly specified.\n"
     ]
    }
   ],
   "source": [
    "print('Regression with only educ as the independent variable.')\n",
    "educ_income = smf.ols('annual_income ~ educ', data=NLSY97).fit()\n",
    "print(educ_income.summary())"
   ]
  },
  {
   "cell_type": "markdown",
   "id": "7c038a7d-9e0c-4b22-8636-95e443b5f237",
   "metadata": {},
   "source": [
    "Regression Interpretation: Including only education as an independent variable, we predict results in an additional year of education increasing annual income by $8082.75. This reveals that independent variables included in our original analysis are contributing to the benefits of education. \n"
   ]
  },
  {
   "cell_type": "code",
   "execution_count": 28,
   "id": "4820f15b-86a4-4c95-a922-e7154dacc4fa",
   "metadata": {},
   "outputs": [
    {
     "name": "stdout",
     "output_type": "stream",
     "text": [
      "Performed a multivariate regression analysis with log of annual_income as the dependent variable and educ, exper, m_college, female, and AFQT as the independent variables.\n",
      "                              OLS Regression Results                             \n",
      "=================================================================================\n",
      "Dep. Variable:     np.log(annual_income)   R-squared:                       0.239\n",
      "Model:                               OLS   Adj. R-squared:                  0.238\n",
      "Method:                    Least Squares   F-statistic:                     224.1\n",
      "Date:                   Wed, 15 Jan 2025   Prob (F-statistic):          1.67e-208\n",
      "Time:                           17:49:05   Log-Likelihood:                -4526.0\n",
      "No. Observations:                   3570   AIC:                             9064.\n",
      "Df Residuals:                       3564   BIC:                             9101.\n",
      "Df Model:                              5                                         \n",
      "Covariance Type:               nonrobust                                         \n",
      "==============================================================================\n",
      "                 coef    std err          t      P>|t|      [0.025      0.975]\n",
      "------------------------------------------------------------------------------\n",
      "Intercept      8.8934      0.107     83.069      0.000       8.684       9.103\n",
      "educ           0.0867      0.007     11.878      0.000       0.072       0.101\n",
      "exper          0.0556      0.004     15.165      0.000       0.048       0.063\n",
      "m_college     -0.0082      0.038     -0.214      0.831      -0.083       0.067\n",
      "female        -0.4429      0.029    -15.247      0.000      -0.500      -0.386\n",
      "AFQT           0.1805      0.020      8.829      0.000       0.140       0.221\n",
      "==============================================================================\n",
      "Omnibus:                     1345.258   Durbin-Watson:                   1.997\n",
      "Prob(Omnibus):                  0.000   Jarque-Bera (JB):             8918.362\n",
      "Skew:                          -1.641   Prob(JB):                         0.00\n",
      "Kurtosis:                      10.013   Cond. No.                         160.\n",
      "==============================================================================\n",
      "\n",
      "Notes:\n",
      "[1] Standard Errors assume that the covariance matrix of the errors is correctly specified.\n"
     ]
    }
   ],
   "source": [
    "print('Performed a multivariate regression analysis with log of annual_income as the dependent variable and educ, exper, m_college, female, and AFQT as the independent variables.')\n",
    "logincome = smf.ols('np.log(annual_income) ~ educ + exper + m_college + female + AFQT', data=NLSY97).fit()\n",
    "print(logincome.summary())"
   ]
  },
  {
   "cell_type": "markdown",
   "id": "135a52f5-5e27-4efa-b183-4b07e2deb647",
   "metadata": {},
   "source": [
    "Regression Interpretation: The model predicts that each year of experience increases annual income by 5.56% for males, while females earn 44.29% less annual income than males holding all else equal. "
   ]
  },
  {
   "cell_type": "code",
   "execution_count": 29,
   "id": "eb3c8831-8212-4fe7-a58e-f427fbaf0853",
   "metadata": {},
   "outputs": [
    {
     "name": "stdout",
     "output_type": "stream",
     "text": [
      "Performed a multivariate regression analysis with log of annual_income as the dependent variable and educ, log of exper, m_college, female, and AFQT as the independent variables.\n",
      "                              OLS Regression Results                             \n",
      "=================================================================================\n",
      "Dep. Variable:     np.log(annual_income)   R-squared:                       0.198\n",
      "Model:                               OLS   Adj. R-squared:                  0.197\n",
      "Method:                    Least Squares   F-statistic:                     175.9\n",
      "Date:                   Wed, 15 Jan 2025   Prob (F-statistic):          1.09e-167\n",
      "Time:                           17:49:05   Log-Likelihood:                -4620.4\n",
      "No. Observations:                   3570   AIC:                             9253.\n",
      "Df Residuals:                       3564   BIC:                             9290.\n",
      "Df Model:                              5                                         \n",
      "Covariance Type:               nonrobust                                         \n",
      "=================================================================================\n",
      "                    coef    std err          t      P>|t|      [0.025      0.975]\n",
      "---------------------------------------------------------------------------------\n",
      "Intercept         9.2391      0.114     81.035      0.000       9.016       9.463\n",
      "educ              0.0993      0.007     13.338      0.000       0.085       0.114\n",
      "np.log(exper)     0.1435      0.024      5.872      0.000       0.096       0.191\n",
      "m_college        -0.0255      0.039     -0.648      0.517      -0.103       0.052\n",
      "female           -0.4686      0.030    -15.728      0.000      -0.527      -0.410\n",
      "AFQT              0.1991      0.021      9.501      0.000       0.158       0.240\n",
      "==============================================================================\n",
      "Omnibus:                     1453.525   Durbin-Watson:                   2.005\n",
      "Prob(Omnibus):                  0.000   Jarque-Bera (JB):             9967.625\n",
      "Skew:                          -1.787   Prob(JB):                         0.00\n",
      "Kurtosis:                      10.364   Cond. No.                         111.\n",
      "==============================================================================\n",
      "\n",
      "Notes:\n",
      "[1] Standard Errors assume that the covariance matrix of the errors is correctly specified.\n"
     ]
    }
   ],
   "source": [
    "print('Performed a multivariate regression analysis with log of annual_income as the dependent variable and educ, log of exper, m_college, female, and AFQT as the independent variables.')\n",
    "logresults = smf.ols('np.log(annual_income) ~ educ + np.log(exper) + m_college + female + AFQT', data=NLSY97).fit()\n",
    "print(logresults.summary())"
   ]
  },
  {
   "cell_type": "markdown",
   "id": "67f25d35-499f-4e2b-b006-bfe8772a29a1",
   "metadata": {},
   "source": [
    "Regression Interpretation: The model predicts that a 1% increase in years of experience leads to a .1435% increase in annual income for males."
   ]
  },
  {
   "cell_type": "code",
   "execution_count": 30,
   "id": "96e618d0-3142-4d63-bb44-f047da895132",
   "metadata": {},
   "outputs": [
    {
     "name": "stdout",
     "output_type": "stream",
     "text": [
      "Created a new variable, exper_educ that is equal to the column exper multiplied by the column educ. This will allow us to add an interaction term to our model.\n"
     ]
    },
    {
     "data": {
      "text/plain": [
       "0           NaN\n",
       "1    259.378596\n",
       "2    208.630610\n",
       "3    232.220944\n",
       "4    205.063291\n",
       "Name: exper_educ, dtype: float64"
      ]
     },
     "execution_count": 30,
     "metadata": {},
     "output_type": "execute_result"
    }
   ],
   "source": [
    "print('Created a new variable, exper_educ that is equal to the column exper multiplied by the column educ. This will allow us to add an interaction term to our model.')\n",
    "NLSY97['exper_educ'] = (NLSY97['exper']*NLSY97['educ'])\n",
    "NLSY97['exper_educ'].head()"
   ]
  },
  {
   "cell_type": "code",
   "execution_count": 31,
   "id": "a7a6d587-8d35-4d8b-bbf7-99e6c472a55d",
   "metadata": {},
   "outputs": [
    {
     "name": "stdout",
     "output_type": "stream",
     "text": [
      "Performed a multivariate regression analysis with log(annual_income) as dependent variabl and independent variables as educ , exper, exper_educ, female, m_college, AFQT.\n",
      "                              OLS Regression Results                             \n",
      "=================================================================================\n",
      "Dep. Variable:     np.log(annual_income)   R-squared:                       0.242\n",
      "Model:                               OLS   Adj. R-squared:                  0.240\n",
      "Method:                    Least Squares   F-statistic:                     189.1\n",
      "Date:                   Wed, 15 Jan 2025   Prob (F-statistic):          1.08e-209\n",
      "Time:                           17:49:05   Log-Likelihood:                -4520.5\n",
      "No. Observations:                   3570   AIC:                             9055.\n",
      "Df Residuals:                       3563   BIC:                             9098.\n",
      "Df Model:                              6                                         \n",
      "Covariance Type:               nonrobust                                         \n",
      "==============================================================================\n",
      "                 coef    std err          t      P>|t|      [0.025      0.975]\n",
      "------------------------------------------------------------------------------\n",
      "Intercept      7.8308      0.337     23.222      0.000       7.170       8.492\n",
      "educ           0.1696      0.026      6.523      0.000       0.119       0.221\n",
      "exper          0.1228      0.021      5.974      0.000       0.082       0.163\n",
      "exper_educ    -0.0052      0.002     -3.323      0.001      -0.008      -0.002\n",
      "female        -0.4347      0.029    -14.932      0.000      -0.492      -0.378\n",
      "m_college     -0.0075      0.038     -0.197      0.844      -0.083       0.067\n",
      "AFQT           0.1803      0.020      8.830      0.000       0.140       0.220\n",
      "==============================================================================\n",
      "Omnibus:                     1344.565   Durbin-Watson:                   1.992\n",
      "Prob(Omnibus):                  0.000   Jarque-Bera (JB):             8876.338\n",
      "Skew:                          -1.641   Prob(JB):                         0.00\n",
      "Kurtosis:                       9.993   Cond. No.                     5.50e+03\n",
      "==============================================================================\n",
      "\n",
      "Notes:\n",
      "[1] Standard Errors assume that the covariance matrix of the errors is correctly specified.\n",
      "[2] The condition number is large, 5.5e+03. This might indicate that there are\n",
      "strong multicollinearity or other numerical problems.\n"
     ]
    }
   ],
   "source": [
    "print('Performed a multivariate regression analysis with log(annual_income) as dependent variabl and independent variables as educ , exper, exper_educ, female, m_college, AFQT.')\n",
    "interaction = smf.ols('np.log(annual_income) ~ educ + exper + exper_educ + female + m_college + AFQT', data=NLSY97).fit()\n",
    "print(interaction.summary())"
   ]
  },
  {
   "cell_type": "markdown",
   "id": "818f95fa-570c-433b-9def-6ccfe8f969da",
   "metadata": {},
   "source": [
    "Regression Interpretation: The model predicts that for each additional year of education, each additional year of experience brings a .52% reduction wages. With a pvalue of .001 exper_educ is statistically significant. This model has the highest R squared of .242, thus it explains more of the variance in annual income than the other models analysed."
   ]
  },
  {
   "cell_type": "markdown",
   "id": "f047c7d4-343c-4fe9-9916-de4c014edffe",
   "metadata": {},
   "source": [
    "Omission of family income, may bring bias to the findings as our models probably ignore influences from affluent working class families, as well as contributions of family wealth on individuals potential for educational attainment, and future potential income. "
   ]
  }
 ],
 "metadata": {
  "kernelspec": {
   "display_name": "Python 3 (ipykernel)",
   "language": "python",
   "name": "python3"
  },
  "language_info": {
   "codemirror_mode": {
    "name": "ipython",
    "version": 3
   },
   "file_extension": ".py",
   "mimetype": "text/x-python",
   "name": "python",
   "nbconvert_exporter": "python",
   "pygments_lexer": "ipython3",
   "version": "3.11.4"
  }
 },
 "nbformat": 4,
 "nbformat_minor": 5
}
